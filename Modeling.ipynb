{
 "cells": [
  {
   "cell_type": "code",
   "execution_count": 28,
   "metadata": {},
   "outputs": [],
   "source": [
    "import os\n",
    "from os.path import join, split\n",
    "from glob import glob\n",
    "import pandas as pd\n",
    "import numpy as np\n",
    "from rdkit import Chem\n",
    "from mordred import descriptors, Calculator\n",
    "from tqdm import tqdm_notebook\n",
    "from rdkit.Chem.rdMolDescriptors import GetMorganFingerprintAsBitVect\n",
    "\n",
    "from lightgbm import LGBMRegressor, LGBMClassifier\n",
    "from sklearn.pipeline import make_pipeline\n",
    "from sklearn.linear_model import LogisticRegression\n",
    "from sklearn.decomposition import PCA\n",
    "from sklearn.feature_selection import VarianceThreshold\n",
    "from sklearn.covariance import EllipticEnvelope\n",
    "from sklearn.svm import OneClassSVM\n",
    "from sklearn.preprocessing import StandardScaler, LabelBinarizer\n",
    "from sklearn.model_selection import cross_val_predict, GridSearchCV, StratifiedKFold, permutation_test_score\n",
    "from sklearn.metrics import make_scorer, r2_score, roc_auc_score, precision_score, classification_report, precision_recall_fscore_support\n",
    "from sklearn import metrics\n",
    "from sklearn.cluster import DBSCAN, KMeans\n",
    "import matplotlib.pyplot as plt\n",
    "import seaborn as sns\n",
    "from tqdm import tqdm_notebook"
   ]
  },
  {
   "cell_type": "markdown",
   "metadata": {},
   "source": [
    "### Files paths "
   ]
  },
  {
   "cell_type": "code",
   "execution_count": 29,
   "metadata": {},
   "outputs": [],
   "source": [
    "ligands_fpath = join('ligands_curated.sdf')\n",
    "cds_fpath = join('cyclodextrins_curated.sdf')"
   ]
  },
  {
   "cell_type": "markdown",
   "metadata": {},
   "source": [
    "### Metrics definition "
   ]
  },
  {
   "cell_type": "code",
   "execution_count": 30,
   "metadata": {},
   "outputs": [],
   "source": [
    "def stats(y_train, y_pred):\n",
    "    roc_auc = metrics.roc_auc_score(y_train, y_pred)\n",
    "    confusion_matrix = metrics.confusion_matrix(y_train, y_pred>0.5)\n",
    "    accuracy = metrics.accuracy_score(y_train, y_pred>0.5)\n",
    "    Kappa = metrics.cohen_kappa_score(y_train, y_pred>0.5, weights='linear')\n",
    "    # True and false values\n",
    "    TN, FP, FN, TP = confusion_matrix.ravel()  \n",
    "    # Sensitivity, hit rate, recall, or true positive rate\n",
    "    SE = TP/(TP+FN)\n",
    "    # Specificity or true negative rate\n",
    "    SP = TN/(TN+FP) \n",
    "    # Precision or positive predictive value\n",
    "    PPV = TP/(TP+FP)\n",
    "    # Negative predictive value\n",
    "    NPV = TN/(TN+FN)\n",
    "    # Correct classification rate\n",
    "    CCR = (SE + SP)/2\n",
    "    d = dict({'Accuracy': accuracy,\n",
    "         'AUC': roc_auc,\n",
    "         'Kappa': Kappa,\n",
    "         'CCR': CCR,\n",
    "         'Sensitivity': SE,\n",
    "         'PPV': PPV,\n",
    "         'Specificity': SP,\n",
    "         'NPV': NPV})\n",
    "    return pd.DataFrame(d, columns=d.keys(), index=[0]).round(2)"
   ]
  },
  {
   "cell_type": "code",
   "execution_count": 31,
   "metadata": {},
   "outputs": [],
   "source": [
    "gridParams = {\n",
    "    'learning_rate': [0.15],\n",
    "    'n_estimators': [1000],\n",
    "    'num_leaves': [63], \n",
    "    'boosting_type' : ['dart'],\n",
    "    'max_bin':[127], \n",
    "    'random_state' : [44],\n",
    "    'colsample_bytree' : [0.6],\n",
    "    'subsample' : [ 0.6],\n",
    "    'reg_alpha' : [0],\n",
    "    'reg_lambda' : [0],\n",
    "    'n_jobs' : [8],\n",
    "    'min_child_samples' : [15, 20, 25]\n",
    "    }"
   ]
  },
  {
   "cell_type": "markdown",
   "metadata": {},
   "source": [
    "#### Descriptors clean-up function "
   ]
  },
  {
   "cell_type": "code",
   "execution_count": 32,
   "metadata": {},
   "outputs": [],
   "source": [
    "def clean_up(descs):\n",
    "    \n",
    "    #remove every column with NaNs\n",
    "    descs = descs[:, np.all(np.isfinite(descs), axis=0)]\n",
    "    #remove varables with less than 5% variance\n",
    "    descs = descs[:, ~(descs.std(axis=0)<0.05)]\n",
    "    \n",
    "    #Iteratively remove cross-correlated variables\n",
    "    corrs = np.array([1])\n",
    "    bar = tqdm_notebook()\n",
    "    while np.any(corrs>0.95):\n",
    "        corrs = np.corrcoef(descs.T)**2\n",
    "        corrs[np.triu_indices_from(corrs)]=0\n",
    "        idx1, idx2 = np.unravel_index(np.argmax(corrs), corrs.shape)\n",
    "        descs = descs[:,~(np.arange(len(descs.T))==idx1)]\n",
    "        bar.update(1)\n",
    "    \n",
    "    return descs"
   ]
  },
  {
   "cell_type": "markdown",
   "metadata": {},
   "source": [
    "### Load data"
   ]
  },
  {
   "cell_type": "markdown",
   "metadata": {},
   "source": [
    "#### Precalculated Dragon descriptors"
   ]
  },
  {
   "cell_type": "markdown",
   "metadata": {},
   "source": [
    "try:\n",
    "    \n",
    "    dragon_descs_ligands = np.load(join('cache', 'dragon.npz'))['dragon_descs_ligands']\n",
    "    dragon_descs_cds = np.load(join('cache', 'dragon.npz'))['dragon_descs_cds']\n",
    "    print('Descriptors loaded from cache')\n",
    "    \n",
    "except Exception as e:\n",
    "    \n",
    "    print(e)\n",
    "    \n",
    "    dragon_descs_ligands = pd.read_csv(join('external_descriptors', 'ligands_dragon.txt'), sep='\\t', na_values='na')\n",
    "    del dragon_descs_ligands['NAME']\n",
    "    del dragon_descs_ligands['No.']\n",
    "    dragon_descs_ligands=dragon_descs_ligands.astype(float).values\n",
    "\n",
    "    dragon_descs_ligands = clean_up(dragon_descs_ligands)\n",
    "\n",
    "    dragon_descs_cds = pd.read_csv(join('external_descriptors', 'cyclodextrins_dragon.txt'), sep='\\t', na_values='na')\n",
    "    del dragon_descs_cds['NAME']\n",
    "    del dragon_descs_cds['No.']\n",
    "    dragon_descs_cds=dragon_descs_cds.astype(float).values\n",
    "\n",
    "    dragon_descs_cds = clean_up(dragon_descs_cds)\n",
    "        \n",
    "    np.savez(join('cache', 'dragon.npz'), dragon_descs_ligands=dragon_descs_ligands, dragon_descs_cds=dragon_descs_cds)"
   ]
  },
  {
   "cell_type": "markdown",
   "metadata": {},
   "source": [
    "#### Precalulated HIT QSAR descriptors - NOT AVAILABLE"
   ]
  },
  {
   "cell_type": "raw",
   "metadata": {},
   "source": [
    "try:\n",
    "    \n",
    "    hit_descs_ligands = np.load(join('cache', 'hit.npz'))['hit_descs_ligands']\n",
    "    hit_descs_cds = np.load(join('cache', 'hit.npz'))['hit_descs_cds']\n",
    "    \n",
    "except Exception as e:\n",
    "    \n",
    "    print(e)\n",
    "    \n",
    "    hit_descs_ligands = pd.read_csv(join('hit_qsar', 'Desc.txm'), sep='\\t', header = -1).iloc[:,1:]\n",
    "    hit_descs_ligands = hit_descs_ligands.astype(float).values\n",
    "    \n",
    "    hit_descs_ligands = clean_up(hit_descs_ligands)\n",
    "\n",
    "    hit_descs_cds = pd.read_csv(join('hit_qsar_cds', 'CD_Desc.txm'), sep='\\t', header = -1).iloc[:,1:]\n",
    "    hit_descs_cds = hit_descs_cds.astype(float).values\n",
    "    \n",
    "    hit_descs_cds = clean_up(hit_descs_cds)\n",
    "\n",
    "    np.savez(join('cache', 'hit.npz'), hit_descs_ligands=hit_descs_ligands, hit_descs_cds=hit_descs_cds)"
   ]
  },
  {
   "cell_type": "markdown",
   "metadata": {},
   "source": [
    "#### Calculate Mordred"
   ]
  },
  {
   "cell_type": "code",
   "execution_count": 33,
   "metadata": {
    "scrolled": true
   },
   "outputs": [
    {
     "name": "stdout",
     "output_type": "stream",
     "text": [
      "Descriptors loaded from cache\n"
     ]
    }
   ],
   "source": [
    "try:\n",
    "    \n",
    "    mordred_descs_ligands = np.load(join('cache', 'mordred.npz'))['mordred_descs_ligands']\n",
    "    mordred_descs_cds = np.load(join('cache', 'mordred.npz'))['mordred_descs_cds']\n",
    "    mordred_bank = np.load(join('cache', 'mordred.npz'))['mordred_bank']\n",
    "    print('Descriptors loaded from cache')\n",
    "    \n",
    "except Exception as e:\n",
    "    \n",
    "    print(e)\n",
    "    \n",
    "    calc = Calculator(descriptors)\n",
    "    reader = Chem.SDMolSupplier(ligands_fpath, removeHs=False)\n",
    "    mordred_descs_ligands, exper_keys = [], []\n",
    "    mordred_bank = {}\n",
    "    \n",
    "    for i, mol in tqdm_notebook(list(enumerate(reader))):\n",
    "        if mol:\n",
    "            mordred_descs_ligands.append(np.array(list(calc(mol))).astype(float))\n",
    "            mordred_bank[Chem.inchi.MolToInchiKey(mol)]=mordred_descs_ligands[-1]\n",
    "        else:\n",
    "            print('Mol no. %d was not loaded'%i)     \n",
    "    mordred_descs_ligands = np.array(mordred_descs_ligands).astype(float)  \n",
    "    \n",
    "    mordred_descs_ligands = clean_up(mordred_descs_ligands)\n",
    "\n",
    "    reader = Chem.SDMolSupplier(cds_fpath, removeHs=False)\n",
    "    mordred_descs_cds = []\n",
    "    for mol in tqdm_notebook(reader):\n",
    "        mordred_descs_cds.append(np.array(list(calc(mol))).astype(float))\n",
    "        mordred_bank[Chem.inchi.MolToInchiKey(mol)]=mordred_descs_cds[-1]\n",
    "    mordred_descs_cds = np.array(mordred_descs_cds).astype(float)\n",
    "    \n",
    "    mordred_descs_cds = clean_up(mordred_descs_cds)\n",
    "    \n",
    "    np.savez(join('cache', 'mordred.npz'), mordred_descs_ligands=mordred_descs_ligands, mordred_descs_cds=mordred_descs_cds,\n",
    "            mordred_bank=mordred_bank)"
   ]
  },
  {
   "cell_type": "markdown",
   "metadata": {},
   "source": [
    "#### Calculate Morgan"
   ]
  },
  {
   "cell_type": "code",
   "execution_count": 34,
   "metadata": {},
   "outputs": [
    {
     "name": "stdout",
     "output_type": "stream",
     "text": [
      "Descriptors loaded from cache\n"
     ]
    }
   ],
   "source": [
    "try:\n",
    "    \n",
    "    morgan_descs_ligands = np.load(join('cache', 'morgan.npz'))['morgan_descs_ligands']\n",
    "    morgan_descs_cds = np.load(join('cache', 'morgan.npz'))['morgan_descs_cds']\n",
    "    morgan_bank = np.load(join('cache', 'morgan.npz'))['morgan_bank']\n",
    "    print('Descriptors loaded from cache')\n",
    "    \n",
    "except Exception as e:\n",
    "    \n",
    "    print(e)\n",
    "\n",
    "    reader = Chem.SDMolSupplier(ligands_fpath, removeHs=False)\n",
    "    morgan_descs_ligands = []\n",
    "    morgan_bank = {}\n",
    "    for i, mol in tqdm_notebook(list(enumerate(reader))):\n",
    "        if mol:\n",
    "            morgan_descs_ligands.append(np.array(GetMorganFingerprintAsBitVect(mol, 10, 2048, useChirality=True)))\n",
    "            morgan_bank[Chem.inchi.MolToInchiKey(mol)]=morgan_descs_ligands[-1]\n",
    "        else:\n",
    "            print('Mol no. %d was not loaded'%i)\n",
    "    morgan_descs_ligands = np.array(morgan_descs_ligands).astype(float)\n",
    "    \n",
    "    #morgan_descs_ligands = clean_up(morgan_descs_ligands)\n",
    "\n",
    "    reader = Chem.SDMolSupplier(cds_fpath, removeHs=False)\n",
    "    morgan_descs_cds = []\n",
    "    for mol in tqdm_notebook(reader):\n",
    "        morgan_descs_cds.append(np.array(GetMorganFingerprintAsBitVect(mol, 10, 256, useChirality=True)))\n",
    "        morgan_bank[Chem.inchi.MolToInchiKey(mol)]=morgan_descs_cds[-1]\n",
    "        \n",
    "    morgan_descs_cds = np.array(morgan_descs_cds).astype(float)\n",
    "    \n",
    "    #morgan_descs_cds = clean_up(morgan_descs_cds)\n",
    "    \n",
    "    np.savez(join('cache', 'morgan.npz'), morgan_descs_ligands=morgan_descs_ligands, morgan_descs_cds=morgan_descs_cds, morgan_bank=morgan_bank)"
   ]
  },
  {
   "cell_type": "markdown",
   "metadata": {},
   "source": [
    "#### Match calculated cyclodextrins descriptors with their names "
   ]
  },
  {
   "cell_type": "code",
   "execution_count": 35,
   "metadata": {},
   "outputs": [],
   "source": [
    "cyclodextrins={}\n",
    "reader = Chem.SDMolSupplier(cds_fpath, removeHs=False)\n",
    "\n",
    "descriptors = [mordred_descs_cds, morgan_descs_cds]\n",
    "\n",
    "for i, (mordred, morgan, mol) in enumerate(zip(*descriptors, reader)):\n",
    "    cyclodextrins[mol.GetProp('name')] = (mol, mordred, morgan)"
   ]
  },
  {
   "cell_type": "code",
   "execution_count": 36,
   "metadata": {},
   "outputs": [],
   "source": [
    "data=[]\n",
    "reader = Chem.SDMolSupplier(ligands_fpath, removeHs=False)\n",
    "\n",
    "descriptors = [mordred_descs_ligands, morgan_descs_ligands]\n",
    "exper_keys = [Chem.inchi.MolToInchiKey(m) for m in Chem.SDMolSupplier(ligands_fpath, removeHs=False) if m]\n",
    "\n",
    "for i, (ikey, mol, mordred, morgan) in enumerate(zip(exper_keys, reader, *descriptors)):\n",
    "    if mol:\n",
    "        data.append([int(mol.GetProp('ID')), float(mol.GetProp('ph')), float(mol.GetProp('temperature')),\n",
    "                     float(mol.GetProp('logk_range')), mol.GetProp('name'), mol.GetProp('Inchi_name'), mol, \n",
    "                     cyclodextrins[mol.GetProp('name')][0], \n",
    "                     mordred, cyclodextrins[mol.GetProp('name')][1], \n",
    "                     morgan, cyclodextrins[mol.GetProp('name')][2],\n",
    "                    ikey])\n",
    "    else:\n",
    "        print('Mol no. %d was not loaded'%i)\n",
    "data = pd.DataFrame(data, columns = ['id', 'ph', 'temperature', 'logk_range', 'cd_name', 'inchi_name', 'mol', 'cd_mol', \n",
    "                                     'mordred_ligand', 'mordred_cd', 'morgan_ligand', 'morgan_cd', 'key'])"
   ]
  },
  {
   "cell_type": "markdown",
   "metadata": {},
   "source": [
    "### Add custom CDs descriptors"
   ]
  },
  {
   "cell_type": "code",
   "execution_count": 37,
   "metadata": {},
   "outputs": [],
   "source": [
    "methylation = {'SBEBCD':2, 'RMBCD':1, 'HEBCD': 3, 'DMBCD' : 1, 'DBBCD':3, 'TMACD':1, 'TMBCD':1, 'TMGCD':1}\n",
    "side_2_descs = []\n",
    "for n in data.cd_name:\n",
    "    if n in methylation.keys():\n",
    "        side_2_descs.append(1)\n",
    "    else:\n",
    "        side_2_descs.append(0)\n",
    "side_2_descs = np.array(side_2_descs)\n",
    "\n",
    "n_glucosides = {'ACD':6, 'BCD':7, 'GCD':8}\n",
    "CD_code =  {n:i for n,i in zip(data['cd_name'].unique(), range(len(data['cd_name'].unique())))}\n",
    "encoded_cd = [np.array([n_glucosides[n[-3:]], CD_code[n]]) for n in data.cd_name]\n",
    "data['side_2_descs'] = side_2_descs"
   ]
  },
  {
   "cell_type": "code",
   "execution_count": 38,
   "metadata": {},
   "outputs": [],
   "source": [
    "data.to_pickle('CD_data.pkl')"
   ]
  },
  {
   "cell_type": "markdown",
   "metadata": {},
   "source": [
    "## QSPR "
   ]
  },
  {
   "cell_type": "code",
   "execution_count": 39,
   "metadata": {},
   "outputs": [],
   "source": [
    "df = data.copy()"
   ]
  },
  {
   "cell_type": "markdown",
   "metadata": {},
   "source": [
    "### Remove outliers"
   ]
  },
  {
   "cell_type": "code",
   "execution_count": 40,
   "metadata": {},
   "outputs": [
    {
     "data": {
      "image/png": "[encoded data removed]",
      "text/plain": [
       "<Figure size 432x288 with 1 Axes>"
      ]
     },
     "metadata": {
      "needs_background": "light"
     },
     "output_type": "display_data"
    }
   ],
   "source": [
    "y_org = data.logk_range.values\n",
    "plt.scatter(y_org, y_org)\n",
    "mask = (y_org>3) & (y_org<17.5)\n",
    "plt.scatter(y_org[mask], y_org[mask])\n",
    "\n",
    "df = df.iloc[mask]"
   ]
  },
  {
   "cell_type": "markdown",
   "metadata": {},
   "source": [
    "# Tests "
   ]
  },
  {
   "cell_type": "markdown",
   "metadata": {},
   "source": [
    "### Handle missing data"
   ]
  },
  {
   "cell_type": "code",
   "execution_count": 41,
   "metadata": {},
   "outputs": [],
   "source": [
    "add_descs = np.concatenate([df['temperature'].values[:,None], df['ph'].values[:,None]], axis=1)\n",
    "encoded_cd = [np.array([n_glucosides[n[-3:]], CD_code[n]]) for n in df.cd_name]"
   ]
  },
  {
   "cell_type": "code",
   "execution_count": 42,
   "metadata": {},
   "outputs": [
    {
     "name": "stdout",
     "output_type": "stream",
     "text": [
      "Missign temp filled with: 25.78 C\n",
      "Missign pH filled with: 7.15\n"
     ]
    }
   ],
   "source": [
    "temp_fill = add_descs[:,0][add_descs[:,0]!=-1].mean()\n",
    "add_descs[:,0][add_descs[:,0]==-1] = temp_fill\n",
    "print('Missign temp filled with: %.2f C'%temp_fill)\n",
    "ph_fill = add_descs[:,1][add_descs[:,1]!=-1].mean()\n",
    "add_descs[:,1][add_descs[:,1]==-1] = ph_fill\n",
    "print('Missign pH filled with: %.2f'%ph_fill)"
   ]
  },
  {
   "cell_type": "code",
   "execution_count": 43,
   "metadata": {},
   "outputs": [
    {
     "data": {
      "text/plain": [
       "Text(0.5,0,'Log Ks')"
      ]
     },
     "execution_count": 43,
     "metadata": {},
     "output_type": "execute_result"
    },
    {
     "data": {
      "image/png": "[encoded data removed]",
      "text/plain": [
       "<Figure size 720x504 with 1 Axes>"
      ]
     },
     "metadata": {
      "needs_background": "light"
     },
     "output_type": "display_data"
    }
   ],
   "source": [
    "plt.figure(figsize=(10,7))\n",
    "sns.distplot(df['logk_range'].values, kde=False)\n",
    "plt.xticks(size=16)\n",
    "plt.yticks(size=16)\n",
    "plt.ylabel('N samples', size=18)\n",
    "plt.xlabel('Log Ks', size=18)"
   ]
  },
  {
   "cell_type": "code",
   "execution_count": 44,
   "metadata": {},
   "outputs": [],
   "source": [
    "screen_mol = Chem.SDMolSupplier(join('screening', 'CA.sdf'), removeHs=False)[0]\n",
    "screen_desc = GetMorganFingerprintAsBitVect(screen_mol, 10, 2048, useChirality=True)\n",
    "\n",
    "cd_names_order = []\n",
    "screening = []\n",
    "for cd_name in set(df.cd_name.values):\n",
    "    \n",
    "    CD_d = df[df.cd_name==cd_name].iloc[0].morgan_cd\n",
    "    add = [25, 7]\n",
    "    enc = np.array(encoded_cd)[df.cd_name.values==cd_name][0]\n",
    "    screening.append(np.concatenate([screen_desc, CD_d, add, enc]))\n",
    "    cd_names_order.append(cd_name)"
   ]
  },
  {
   "cell_type": "code",
   "execution_count": 45,
   "metadata": {},
   "outputs": [],
   "source": [
    "from imblearn.ensemble import BalancedBaggingClassifier"
   ]
  },
  {
   "cell_type": "code",
   "execution_count": null,
   "metadata": {},
   "outputs": [],
   "source": []
  },
  {
   "cell_type": "code",
   "execution_count": 46,
   "metadata": {},
   "outputs": [
    {
     "data": {
      "text/plain": [
       "5.298317366548036"
      ]
     },
     "execution_count": 46,
     "metadata": {},
     "output_type": "execute_result"
    }
   ],
   "source": [
    "np.log(200)"
   ]
  },
  {
   "cell_type": "code",
   "execution_count": null,
   "metadata": {
    "scrolled": false
   },
   "outputs": [],
   "source": [
    "descriptor_spaces = ['morgan']\n",
    "screen_preds = {}\n",
    "\n",
    "API_spaces = [np.array([np.array(r) for r in df['%s_ligand'%name]]).astype(float) for name in descriptor_spaces]\n",
    "CD_spaces = [np.array([np.array(r) for r in df['%s_cd'%name]]).astype(float) for name in descriptor_spaces]\n",
    "API_descs = API_spaces[0]\n",
    "CD_descs = CD_spaces[0]\n",
    "\n",
    "k = df['logk_range'].values\n",
    "\n",
    "th = [0, 4, 4.5, 5]\n",
    "results = []\n",
    "\n",
    "for th_level in range(1,5):\n",
    "    \n",
    "    y = k    \n",
    "    mask = (y >= (th[th_level-1]))\n",
    "    y_classes = y[mask]\n",
    "    y_classes = y_classes>=(th[th_level]*1.1)\n",
    "\n",
    "    classes_labels=['<%.2f'%(th[th_level]), '>=%.2f'%(th[th_level])]\n",
    "    plt.figure(figsize=(7,4))\n",
    "    plt.title('Threshold level %d'%th_level)\n",
    "    plt.bar(np.unique(y_classes), np.bincount(y_classes), tick_label=classes_labels)\n",
    "    plt.show() \n",
    "        \n",
    "    est=LGBMClassifier(boosting_type='dart', class_weight=None, colsample_bytree=0.6,\n",
    "                      importance_type='split', learning_rate=0.15, max_bin=127,\n",
    "                      max_depth=-1, min_child_samples=20, min_child_weight=0.001,\n",
    "                       min_split_gain=0.0, n_estimators=50, n_jobs=8, num_leaves=63,\n",
    "                       objective=None, random_state=44, reg_alpha=0, reg_lambda=0,\n",
    "                       silent=True, subsample=0.6, subsample_for_bin=200000,\n",
    "                       subsample_freq=0, device_type='gpu')\n",
    "    est = BalancedBaggingClassifier(est, sampling_strategy='auto', replacement=False, random_state=44, n_estimators=20)\n",
    "    X = np.concatenate([API_descs, CD_descs, add_descs, encoded_cd], axis=1)[mask]\n",
    "    y_preds = []\n",
    "    y_true = []\n",
    "    \n",
    "    skf = StratifiedKFold(n_splits=5)\n",
    "    for train_index, test_index in skf.split(X, y_classes):\n",
    "        \n",
    "        X_train, X_test = X[train_index], X[test_index]\n",
    "        y_train, y_test = y_classes[train_index], y_classes[test_index]\n",
    "\n",
    "        print('Balance before clustering: %.2f'%(np.mean(y_train)))\n",
    "        mask = y_train\n",
    "        X_train_cls = X_train[mask]\n",
    "        clu = DBSCAN(0.015, metric='jaccard')\n",
    "        labels = clu.fit_predict(X_train_cls[:,:2048+256])\n",
    "        noise_mask = (labels<0)\n",
    "\n",
    "        print('Noise ratio: %.2f'%(np.mean(noise_mask)))\n",
    "\n",
    "        X_train_noise = X_train_cls[noise_mask]\n",
    "        X_train_clust = pd.DataFrame(X_train_cls[~noise_mask]).groupby(labels[~noise_mask]).mean()\n",
    "        X_train_pos = np.concatenate([X_train_clust.values, X_train_noise])\n",
    "        X_train_neg = X_train[~mask]\n",
    "        X_train = np.concatenate([X_train_pos, X_train_neg])\n",
    "        y_train = np.concatenate([np.ones((len(X_train_pos),)), np.zeros((len(X_train_neg),))])>0\n",
    "        print('Balance after clustering: %.2f'%(np.mean(y_train)))\n",
    "        \n",
    "        est.fit(X_train, y_train)\n",
    "        y_preds.append(est.predict_proba(X_test)[:,1])\n",
    "        y_true.append(y_test)\n",
    "    y_preds = np.concatenate(y_preds)\n",
    "    y_true = np.concatenate(y_true)\n",
    "    \n",
    "    df_stats = stats(y_true, y_preds)\n",
    "    df_stats.index = [th[th_level]]\n",
    "    \n",
    "    results.append(df_stats)\n",
    "    \n",
    "    X_screen = np.array(screening)\n",
    "    est.fit(X, y_classes)\n",
    "    screen_preds[th_level] = est.predict_proba(X_screen)[:,1]\n",
    "    \n",
    "display(pd.concat(results))"
   ]
  },
  {
   "cell_type": "code",
   "execution_count": 31,
   "metadata": {},
   "outputs": [
    {
     "data": {
      "text/html": [
       "<div>\n",
       "<style scoped>\n",
       "    .dataframe tbody tr th:only-of-type {\n",
       "        vertical-align: middle;\n",
       "    }\n",
       "\n",
       "    .dataframe tbody tr th {\n",
       "        vertical-align: top;\n",
       "    }\n",
       "\n",
       "    .dataframe thead th {\n",
       "        text-align: right;\n",
       "    }\n",
       "</style>\n",
       "<table border=\"1\" class=\"dataframe\">\n",
       "  <thead>\n",
       "    <tr style=\"text-align: right;\">\n",
       "      <th></th>\n",
       "      <th>Accuracy</th>\n",
       "      <th>AUC</th>\n",
       "      <th>Kappa</th>\n",
       "      <th>CCR</th>\n",
       "      <th>Sensitivity</th>\n",
       "      <th>PPV</th>\n",
       "      <th>Specificity</th>\n",
       "      <th>NPV</th>\n",
       "    </tr>\n",
       "  </thead>\n",
       "  <tbody>\n",
       "    <tr>\n",
       "      <th>3.91</th>\n",
       "      <td>0.72</td>\n",
       "      <td>0.77</td>\n",
       "      <td>0.37</td>\n",
       "      <td>0.70</td>\n",
       "      <td>0.75</td>\n",
       "      <td>0.85</td>\n",
       "      <td>0.66</td>\n",
       "      <td>0.50</td>\n",
       "    </tr>\n",
       "    <tr>\n",
       "      <th>4.60</th>\n",
       "      <td>0.68</td>\n",
       "      <td>0.70</td>\n",
       "      <td>0.26</td>\n",
       "      <td>0.66</td>\n",
       "      <td>0.70</td>\n",
       "      <td>0.86</td>\n",
       "      <td>0.61</td>\n",
       "      <td>0.39</td>\n",
       "    </tr>\n",
       "    <tr>\n",
       "      <th>5.29</th>\n",
       "      <td>0.67</td>\n",
       "      <td>0.70</td>\n",
       "      <td>0.30</td>\n",
       "      <td>0.66</td>\n",
       "      <td>0.70</td>\n",
       "      <td>0.79</td>\n",
       "      <td>0.62</td>\n",
       "      <td>0.50</td>\n",
       "    </tr>\n",
       "  </tbody>\n",
       "</table>\n",
       "</div>"
      ],
      "text/plain": [
       "      Accuracy   AUC  Kappa   CCR  Sensitivity   PPV  Specificity   NPV\n",
       "3.91      0.72  0.77   0.37  0.70         0.75  0.85         0.66  0.50\n",
       "4.60      0.68  0.70   0.26  0.66         0.70  0.86         0.61  0.39\n",
       "5.29      0.67  0.70   0.30  0.66         0.70  0.79         0.62  0.50"
      ]
     },
     "metadata": {},
     "output_type": "display_data"
    }
   ],
   "source": [
    "display(pd.concat(results))"
   ]
  },
  {
   "cell_type": "code",
   "execution_count": 33,
   "metadata": {},
   "outputs": [
    {
     "data": {
      "text/html": [
       "<div>\n",
       "<style scoped>\n",
       "    .dataframe tbody tr th:only-of-type {\n",
       "        vertical-align: middle;\n",
       "    }\n",
       "\n",
       "    .dataframe tbody tr th {\n",
       "        vertical-align: top;\n",
       "    }\n",
       "\n",
       "    .dataframe thead th {\n",
       "        text-align: right;\n",
       "    }\n",
       "</style>\n",
       "<table border=\"1\" class=\"dataframe\">\n",
       "  <thead>\n",
       "    <tr style=\"text-align: right;\">\n",
       "      <th></th>\n",
       "      <th>0</th>\n",
       "      <th>0</th>\n",
       "      <th>0</th>\n",
       "    </tr>\n",
       "  </thead>\n",
       "  <tbody>\n",
       "    <tr>\n",
       "      <th>HPACD</th>\n",
       "      <td>0.888988</td>\n",
       "      <td>0.495996</td>\n",
       "      <td>0.580875</td>\n",
       "    </tr>\n",
       "    <tr>\n",
       "      <th>HPBCD</th>\n",
       "      <td>0.939669</td>\n",
       "      <td>0.586805</td>\n",
       "      <td>0.601130</td>\n",
       "    </tr>\n",
       "    <tr>\n",
       "      <th>BCD</th>\n",
       "      <td>0.953431</td>\n",
       "      <td>0.625524</td>\n",
       "      <td>0.670204</td>\n",
       "    </tr>\n",
       "    <tr>\n",
       "      <th>ACD</th>\n",
       "      <td>0.712280</td>\n",
       "      <td>0.413886</td>\n",
       "      <td>0.601579</td>\n",
       "    </tr>\n",
       "    <tr>\n",
       "      <th>RMBCD</th>\n",
       "      <td>0.945445</td>\n",
       "      <td>0.595767</td>\n",
       "      <td>0.647581</td>\n",
       "    </tr>\n",
       "  </tbody>\n",
       "</table>\n",
       "</div>"
      ],
      "text/plain": [
       "              0         0         0\n",
       "HPACD  0.888988  0.495996  0.580875\n",
       "HPBCD  0.939669  0.586805  0.601130\n",
       "BCD    0.953431  0.625524  0.670204\n",
       "ACD    0.712280  0.413886  0.601579\n",
       "RMBCD  0.945445  0.595767  0.647581"
      ]
     },
     "execution_count": 33,
     "metadata": {},
     "output_type": "execute_result"
    }
   ],
   "source": [
    "pd.concat([pd.DataFrame(index=cd_names_order, data=screen_preds[i]).loc[['HPACD', 'HPBCD', 'BCD', 'ACD', 'RMBCD']] for i in range(1,4)],axis=1)"
   ]
  },
  {
   "cell_type": "markdown",
   "metadata": {},
   "source": [
    "### Y-randomization test "
   ]
  },
  {
   "cell_type": "code",
   "execution_count": 139,
   "metadata": {},
   "outputs": [
    {
     "data": {
      "text/plain": [
       "Pipeline(memory=None,\n",
       "         steps=[('sampler',\n",
       "                 RandomUnderSampler(random_state=1165046975, ratio=None,\n",
       "                                    replacement=False, return_indices=False,\n",
       "                                    sampling_strategy='auto')),\n",
       "                ('classifier',\n",
       "                 LGBMClassifier(boosting_type='dart', class_weight=None,\n",
       "                                colsample_bytree=0.6, importance_type='split',\n",
       "                                learning_rate=0.15, max_bin=127, max_depth=-1,\n",
       "                                min_child_samples=20, min_child_weight=0.001,\n",
       "                                min_split_gain=0.0, n_estimators=1000, n_jobs=8,\n",
       "                                num_leaves=63, objective=None,\n",
       "                                random_state=1217357931, reg_alpha=0,\n",
       "                                reg_lambda=0, silent=True, subsample=0.6,\n",
       "                                subsample_for_bin=200000, subsample_freq=0))],\n",
       "         verbose=False)"
      ]
     },
     "execution_count": 139,
     "metadata": {},
     "output_type": "execute_result"
    }
   ],
   "source": [
    "est.estimators_[0]"
   ]
  },
  {
   "cell_type": "code",
   "execution_count": 23,
   "metadata": {},
   "outputs": [
    {
     "name": "stderr",
     "output_type": "stream",
     "text": [
      "C:\\Anaconda3\\envs\\tf\\lib\\site-packages\\ipykernel_launcher.py:7: RuntimeWarning: divide by zero encountered in log\n",
      "  import sys\n"
     ]
    },
    {
     "name": "stdout",
     "output_type": "stream",
     "text": [
      "True score =  0.82 \n",
      "Y-randomization =  0.48 \n",
      "p-value =  0.0476\n",
      "True score =  0.68 \n",
      "Y-randomization =  0.48 \n",
      "p-value =  0.0476\n",
      "True score =  0.76 \n",
      "Y-randomization =  0.48 \n",
      "p-value =  0.0476\n",
      "True score =  0.7 \n",
      "Y-randomization =  0.47 \n",
      "p-value =  0.0476\n"
     ]
    },
    {
     "data": {
      "text/html": [
       "<div>\n",
       "<style scoped>\n",
       "    .dataframe tbody tr th:only-of-type {\n",
       "        vertical-align: middle;\n",
       "    }\n",
       "\n",
       "    .dataframe tbody tr th {\n",
       "        vertical-align: top;\n",
       "    }\n",
       "\n",
       "    .dataframe thead th {\n",
       "        text-align: right;\n",
       "    }\n",
       "</style>\n",
       "<table border=\"1\" class=\"dataframe\">\n",
       "  <thead>\n",
       "    <tr style=\"text-align: right;\">\n",
       "      <th></th>\n",
       "      <th>Accuracy</th>\n",
       "      <th>Kappa</th>\n",
       "      <th>CCR</th>\n",
       "      <th>Sensitivity</th>\n",
       "      <th>PPV</th>\n",
       "      <th>Specificity</th>\n",
       "      <th>NPV</th>\n",
       "    </tr>\n",
       "  </thead>\n",
       "  <tbody>\n",
       "    <tr>\n",
       "      <th>5.756463</th>\n",
       "      <td>0.74</td>\n",
       "      <td>0.48</td>\n",
       "      <td>0.74</td>\n",
       "      <td>0.74</td>\n",
       "      <td>0.72</td>\n",
       "      <td>0.75</td>\n",
       "      <td>0.76</td>\n",
       "    </tr>\n",
       "    <tr>\n",
       "      <th>7.129728</th>\n",
       "      <td>0.64</td>\n",
       "      <td>0.29</td>\n",
       "      <td>0.64</td>\n",
       "      <td>0.63</td>\n",
       "      <td>0.65</td>\n",
       "      <td>0.66</td>\n",
       "      <td>0.64</td>\n",
       "    </tr>\n",
       "    <tr>\n",
       "      <th>8.355765</th>\n",
       "      <td>0.71</td>\n",
       "      <td>0.42</td>\n",
       "      <td>0.71</td>\n",
       "      <td>0.67</td>\n",
       "      <td>0.68</td>\n",
       "      <td>0.75</td>\n",
       "      <td>0.74</td>\n",
       "    </tr>\n",
       "    <tr>\n",
       "      <th>9.222199</th>\n",
       "      <td>0.66</td>\n",
       "      <td>0.31</td>\n",
       "      <td>0.66</td>\n",
       "      <td>0.69</td>\n",
       "      <td>0.69</td>\n",
       "      <td>0.62</td>\n",
       "      <td>0.63</td>\n",
       "    </tr>\n",
       "  </tbody>\n",
       "</table>\n",
       "</div>"
      ],
      "text/plain": [
       "          Accuracy  Kappa   CCR  Sensitivity   PPV  Specificity   NPV\n",
       "5.756463      0.74   0.48  0.74         0.74  0.72         0.75  0.76\n",
       "7.129728      0.64   0.29  0.64         0.63  0.65         0.66  0.64\n",
       "8.355765      0.71   0.42  0.71         0.67  0.68         0.75  0.74\n",
       "9.222199      0.66   0.31  0.66         0.69  0.69         0.62  0.63"
      ]
     },
     "metadata": {},
     "output_type": "display_data"
    },
    {
     "data": {
      "image/png": "[encoded data removed]",
      "text/plain": [
       "<Figure size 936x360 with 1 Axes>"
      ]
     },
     "metadata": {
      "needs_background": "light"
     },
     "output_type": "display_data"
    },
    {
     "data": {
      "image/png": "[encoded data removed]",
      "text/plain": [
       "<Figure size 936x360 with 1 Axes>"
      ]
     },
     "metadata": {
      "needs_background": "light"
     },
     "output_type": "display_data"
    },
    {
     "data": {
      "image/png": "[encoded data removed]",
      "text/plain": [
       "<Figure size 936x360 with 1 Axes>"
      ]
     },
     "metadata": {
      "needs_background": "light"
     },
     "output_type": "display_data"
    },
    {
     "data": {
      "image/png": "[encoded data removed]",
      "text/plain": [
       "<Figure size 936x360 with 1 Axes>"
      ]
     },
     "metadata": {
      "needs_background": "light"
     },
     "output_type": "display_data"
    }
   ],
   "source": [
    "descriptor_spaces = ['mordred']\n",
    "API_descs = [np.array([np.array(r) for r in df['%s_ligand'%name]]).astype(float) for name in descriptor_spaces][0]\n",
    "CD_descs = [np.array([np.array(r) for r in df['%s_cd'%name]]).astype(float) for name in descriptor_spaces][0]\n",
    "\n",
    "k = df['logk_range'].values\n",
    "\n",
    "th = [np.log(t)+0.25*np.log(t) for t in [0, 100, 300, 800, 1600]]\n",
    "results = []\n",
    "\n",
    "for th_level in range(1,5):\n",
    "    y = k\n",
    "    \n",
    "    mask = y>=th[th_level-1]\n",
    "    y_classes = y[mask]\n",
    "    y_classes = y_classes>=th[th_level]\n",
    "\n",
    "    classes_labels=['>=%.2f'%(th[th_level]), '<%.2f'%(th[th_level])]\n",
    "    plt.figure(figsize=(13,5))\n",
    "    plt.title('Threshold level %d'%th_level)\n",
    "    plt.bar(np.unique(y_classes), np.bincount(y_classes), tick_label=classes_labels)\n",
    "    \n",
    "    X = np.concatenate([API_descs, CD_descs, add_descs, encoded_cd], axis=1)[mask]\n",
    "    \n",
    "    est = LGBMClassifier()#GridSearchCV(LGBMClassifier(), param_grid=gridParams, n_jobs=1)\n",
    "    y_preds = cross_val_predict(est, X, y_classes, method='predict_proba', cv=5)\n",
    "    score, permutation_scores, pvalue = permutation_test_score(est, X, y_classes, cv=5, scoring='roc_auc',\n",
    "                                                               n_permutations=20, n_jobs=1, verbose=0, random_state=44)\n",
    "    print('True score = ', score.round(2), '\\nY-randomization = ', np.mean(permutation_scores).round(2), '\\np-value = ', pvalue.round(4))\n",
    "    probs = y_preds\n",
    "    pred_classes = np.argmax(probs, axis=1)\n",
    "    \n",
    "    y_true = LabelBinarizer().fit_transform(y_classes)\n",
    "    y_predicted = LabelBinarizer().fit_transform(pred_classes)\n",
    "    \n",
    "    df_stats = stats(y_true, y_predicted)\n",
    "    df_stats.index = [th[th_level]]\n",
    "    \n",
    "    results.append(df_stats)\n",
    "\n",
    "display(pd.concat(results))"
   ]
  },
  {
   "cell_type": "markdown",
   "metadata": {},
   "source": [
    "### One Model for all CDs "
   ]
  },
  {
   "cell_type": "code",
   "execution_count": null,
   "metadata": {},
   "outputs": [],
   "source": [
    "results_sep_reg = {}\n",
    "\n",
    "env_descs = df[['ph', 'temperature']].values\n",
    "API_descs_masked = API_descs\n",
    "CD_descs_dragon = CD_descs\n",
    "CD_descs_code = df['encoded_cd'].values\n",
    "k_masked = k\n",
    "\n",
    "for cd_desc_name, CD_descs_sel in zip([descriptors, 'code'], [CD_descs_dragon, CD_descs_code]):\n",
    "    for env_descs in [[], env_descs]:\n",
    "\n",
    "        if len(env_descs):\n",
    "            remove_na_choices = [True, False]\n",
    "        else:\n",
    "            remove_na_choices = [False]\n",
    "\n",
    "        for remove_na in remove_na_choices:\n",
    "\n",
    "            if len(env_descs):\n",
    "                env_added = True\n",
    "            else:\n",
    "                env_added = False\n",
    "\n",
    "            reg = LGBMRegressor()\n",
    "\n",
    "            y_pred, y, n_samples = model_test(API_descs_masked, k_masked, reg, CD_descs_sel, env_descs=env_descs, remove_na=remove_na)\n",
    "\n",
    "            if np.any(np.array(y_pred)==None):\n",
    "                continue\n",
    "\n",
    "            press = np.sum((y_pred-y)**2)\n",
    "            tss=np.sum((y-y.mean())**2)\n",
    "\n",
    "            if remove_na:\n",
    "                remove_na='Removed'\n",
    "            else:\n",
    "                remove_na='Preserved'\n",
    "\n",
    "            if env_added:\n",
    "                env_added='Added'\n",
    "            else:\n",
    "                env_added='Not added'\n",
    "\n",
    "            results_sep_reg[(cd_desc_name, remove_na, env_added)] = (1-(press/tss), n_samples)\n",
    "index = pd.MultiIndex.from_tuples(list(results_sep_reg.keys()), names=['CD descriptors', 'Missing data', 'Exp. conditions'])\n",
    "results_df = pd.DataFrame(index=index, data=list(results_sep_reg.values()), columns=['Q2', 'N samples'])"
   ]
  }
 ],
 "metadata": {
  "kernelspec": {
   "display_name": "Python 3",
   "language": "python",
   "name": "python3"
  },
  "language_info": {
   "codemirror_mode": {
    "name": "ipython",
    "version": 3
   },
   "file_extension": ".py",
   "mimetype": "text/x-python",
   "name": "python",
   "nbconvert_exporter": "python",
   "pygments_lexer": "ipython3",
   "version": "3.6.8"
  }
 },
 "nbformat": 4,
 "nbformat_minor": 2
}
